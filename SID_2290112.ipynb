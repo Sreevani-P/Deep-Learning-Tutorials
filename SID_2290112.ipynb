{
 "cells": [
  {
   "cell_type": "code",
   "execution_count": 1,
   "metadata": {
    "id": "xyn8dB5oWntJ"
   },
   "outputs": [
    {
     "name": "stdout",
     "output_type": "stream",
     "text": [
      "WARNING:tensorflow:From C:\\Users\\SreevaniPaipuru\\anaconda3\\Lib\\site-packages\\keras\\src\\losses.py:2976: The name tf.losses.sparse_softmax_cross_entropy is deprecated. Please use tf.compat.v1.losses.sparse_softmax_cross_entropy instead.\n",
      "\n"
     ]
    }
   ],
   "source": [
    "import os, shutil\n",
    "from keras import layers, models, optimizers\n",
    "import pandas as pd\n",
    "import numpy as np\n",
    "import tensorflow as tf\n",
    "from keras.preprocessing.image import ImageDataGenerator, load_img, img_to_array, smart_resize\n",
    "from keras.callbacks import EarlyStopping, LearningRateScheduler, ReduceLROnPlateau, ModelCheckpoint\n",
    "import matplotlib.pyplot as plt\n",
    "import seaborn as sns"
   ]
  },
  {
   "cell_type": "code",
   "execution_count": 2,
   "metadata": {
    "colab": {
     "base_uri": "https://localhost:8080/",
     "height": 550
    },
    "id": "1qpyzEX8XroD",
    "outputId": "f43afdaa-2847-423c-c167-26b1f6ff13d7"
   },
   "outputs": [
    {
     "name": "stdout",
     "output_type": "stream",
     "text": [
      "3    13158\n",
      "4     2577\n",
      "2     2386\n",
      "1     2189\n",
      "0     1087\n",
      "Name: label, dtype: int64\n"
     ]
    },
    {
     "data": {
      "text/html": [
       "<div>\n",
       "<style scoped>\n",
       "    .dataframe tbody tr th:only-of-type {\n",
       "        vertical-align: middle;\n",
       "    }\n",
       "\n",
       "    .dataframe tbody tr th {\n",
       "        vertical-align: top;\n",
       "    }\n",
       "\n",
       "    .dataframe thead th {\n",
       "        text-align: right;\n",
       "    }\n",
       "</style>\n",
       "<table border=\"1\" class=\"dataframe\">\n",
       "  <thead>\n",
       "    <tr style=\"text-align: right;\">\n",
       "      <th></th>\n",
       "      <th>image_id</th>\n",
       "      <th>label</th>\n",
       "    </tr>\n",
       "  </thead>\n",
       "  <tbody>\n",
       "    <tr>\n",
       "      <th>0</th>\n",
       "      <td>1000015157.jpg</td>\n",
       "      <td>0</td>\n",
       "    </tr>\n",
       "    <tr>\n",
       "      <th>1</th>\n",
       "      <td>1000201771.jpg</td>\n",
       "      <td>3</td>\n",
       "    </tr>\n",
       "    <tr>\n",
       "      <th>2</th>\n",
       "      <td>100042118.jpg</td>\n",
       "      <td>1</td>\n",
       "    </tr>\n",
       "    <tr>\n",
       "      <th>3</th>\n",
       "      <td>1000723321.jpg</td>\n",
       "      <td>1</td>\n",
       "    </tr>\n",
       "    <tr>\n",
       "      <th>4</th>\n",
       "      <td>1000812911.jpg</td>\n",
       "      <td>3</td>\n",
       "    </tr>\n",
       "    <tr>\n",
       "      <th>...</th>\n",
       "      <td>...</td>\n",
       "      <td>...</td>\n",
       "    </tr>\n",
       "    <tr>\n",
       "      <th>21392</th>\n",
       "      <td>999068805.jpg</td>\n",
       "      <td>3</td>\n",
       "    </tr>\n",
       "    <tr>\n",
       "      <th>21393</th>\n",
       "      <td>999329392.jpg</td>\n",
       "      <td>3</td>\n",
       "    </tr>\n",
       "    <tr>\n",
       "      <th>21394</th>\n",
       "      <td>999474432.jpg</td>\n",
       "      <td>1</td>\n",
       "    </tr>\n",
       "    <tr>\n",
       "      <th>21395</th>\n",
       "      <td>999616605.jpg</td>\n",
       "      <td>4</td>\n",
       "    </tr>\n",
       "    <tr>\n",
       "      <th>21396</th>\n",
       "      <td>999998473.jpg</td>\n",
       "      <td>4</td>\n",
       "    </tr>\n",
       "  </tbody>\n",
       "</table>\n",
       "<p>21397 rows × 2 columns</p>\n",
       "</div>"
      ],
      "text/plain": [
       "             image_id  label\n",
       "0      1000015157.jpg      0\n",
       "1      1000201771.jpg      3\n",
       "2       100042118.jpg      1\n",
       "3      1000723321.jpg      1\n",
       "4      1000812911.jpg      3\n",
       "...               ...    ...\n",
       "21392   999068805.jpg      3\n",
       "21393   999329392.jpg      3\n",
       "21394   999474432.jpg      1\n",
       "21395   999616605.jpg      4\n",
       "21396   999998473.jpg      4\n",
       "\n",
       "[21397 rows x 2 columns]"
      ]
     },
     "execution_count": 2,
     "metadata": {},
     "output_type": "execute_result"
    }
   ],
   "source": [
    "data = pd.read_csv('train.csv')\n",
    "print(data['label'].value_counts())\n",
    "data"
   ]
  },
  {
   "cell_type": "code",
   "execution_count": 3,
   "metadata": {
    "colab": {
     "base_uri": "https://localhost:8080/",
     "height": 452
    },
    "id": "DvfYVzS25vjJ",
    "outputId": "24c5fcc4-544c-4d0f-8598-b496b7da7301"
   },
   "outputs": [
    {
     "data": {
      "image/png": "[encoded data removed]",
      "text/plain": [
       "<Figure size 640x480 with 1 Axes>"
      ]
     },
     "metadata": {},
     "output_type": "display_data"
    }
   ],
   "source": [
    "# @title label\n",
    "\n",
    "from matplotlib import pyplot as plt\n",
    "data['label'].plot(kind='hist', bins=20, title='label')\n",
    "plt.gca().spines[['top', 'right',]].set_visible(False)"
   ]
  },
  {
   "cell_type": "code",
   "execution_count": 4,
   "metadata": {
    "id": "B7bvFlTNaVVI"
   },
   "outputs": [],
   "source": [
    "import random\n",
    "import warnings\n",
    "def seed_everything(seed=0):\n",
    "    random.seed(seed)\n",
    "    np.random.seed(seed)\n",
    "    tf.random.set_seed(seed)\n",
    "    os.environ['PYTHONHASHSEED'] = str(seed)\n",
    "    os.environ['TF_DETERMINISTIC_OPS'] = '1'\n",
    "\n",
    "seed = 21\n",
    "seed_everything(seed)\n",
    "warnings.filterwarnings('ignore')"
   ]
  },
  {
   "cell_type": "code",
   "execution_count": 5,
   "metadata": {
    "colab": {
     "base_uri": "https://localhost:8080/",
     "height": 206
    },
    "id": "aJkm5gq0X9CB",
    "outputId": "4a5bf1ff-0822-484e-9c88-3a25329084bf"
   },
   "outputs": [
    {
     "data": {
      "text/html": [
       "<div>\n",
       "<style scoped>\n",
       "    .dataframe tbody tr th:only-of-type {\n",
       "        vertical-align: middle;\n",
       "    }\n",
       "\n",
       "    .dataframe tbody tr th {\n",
       "        vertical-align: top;\n",
       "    }\n",
       "\n",
       "    .dataframe thead th {\n",
       "        text-align: right;\n",
       "    }\n",
       "</style>\n",
       "<table border=\"1\" class=\"dataframe\">\n",
       "  <thead>\n",
       "    <tr style=\"text-align: right;\">\n",
       "      <th></th>\n",
       "      <th>image_id</th>\n",
       "      <th>label</th>\n",
       "      <th>class_name</th>\n",
       "    </tr>\n",
       "  </thead>\n",
       "  <tbody>\n",
       "    <tr>\n",
       "      <th>0</th>\n",
       "      <td>1000015157.jpg</td>\n",
       "      <td>0</td>\n",
       "      <td>Cassava Bacterial Blight (CBB)</td>\n",
       "    </tr>\n",
       "    <tr>\n",
       "      <th>1</th>\n",
       "      <td>1000201771.jpg</td>\n",
       "      <td>3</td>\n",
       "      <td>Cassava Mosaic Disease (CMD)</td>\n",
       "    </tr>\n",
       "    <tr>\n",
       "      <th>2</th>\n",
       "      <td>100042118.jpg</td>\n",
       "      <td>1</td>\n",
       "      <td>Cassava Brown Streak Disease (CBSD)</td>\n",
       "    </tr>\n",
       "    <tr>\n",
       "      <th>3</th>\n",
       "      <td>1000723321.jpg</td>\n",
       "      <td>1</td>\n",
       "      <td>Cassava Brown Streak Disease (CBSD)</td>\n",
       "    </tr>\n",
       "    <tr>\n",
       "      <th>4</th>\n",
       "      <td>1000812911.jpg</td>\n",
       "      <td>3</td>\n",
       "      <td>Cassava Mosaic Disease (CMD)</td>\n",
       "    </tr>\n",
       "  </tbody>\n",
       "</table>\n",
       "</div>"
      ],
      "text/plain": [
       "         image_id  label                           class_name\n",
       "0  1000015157.jpg      0       Cassava Bacterial Blight (CBB)\n",
       "1  1000201771.jpg      3         Cassava Mosaic Disease (CMD)\n",
       "2   100042118.jpg      1  Cassava Brown Streak Disease (CBSD)\n",
       "3  1000723321.jpg      1  Cassava Brown Streak Disease (CBSD)\n",
       "4  1000812911.jpg      3         Cassava Mosaic Disease (CMD)"
      ]
     },
     "execution_count": 5,
     "metadata": {},
     "output_type": "execute_result"
    }
   ],
   "source": [
    "import json\n",
    "# Importing the json file with labels\n",
    "with open('label_num_to_disease_map.json') as f:\n",
    "    real_labels = json.load(f)\n",
    "    real_labels = {int(k):v for k,v in real_labels.items()}\n",
    "\n",
    "# Defining the working dataset\n",
    "data['class_name'] = data['label'].map(real_labels)\n",
    "data.head()"
   ]
  },
  {
   "cell_type": "code",
   "execution_count": 6,
   "metadata": {
    "cellView": "form",
    "colab": {
     "base_uri": "https://localhost:8080/",
     "height": 430
    },
    "id": "JoLhCvDfok59",
    "outputId": "57347e19-a9fb-4eef-f1ad-ec3ec193ae72"
   },
   "outputs": [
    {
     "data": {
      "image/png": "[encoded data removed]",
      "text/plain": [
       "<Figure size 640x480 with 1 Axes>"
      ]
     },
     "metadata": {},
     "output_type": "display_data"
    }
   ],
   "source": [
    "# @title class_name\n",
    "\n",
    "from matplotlib import pyplot as plt\n",
    "import seaborn as sns\n",
    "data.groupby('class_name').size().plot(kind='barh', color=sns.palettes.mpl_palette('Dark2'))\n",
    "plt.gca().spines[['top', 'right',]].set_visible(False)"
   ]
  },
  {
   "cell_type": "code",
   "execution_count": 7,
   "metadata": {
    "id": "ld_etZByYNas"
   },
   "outputs": [],
   "source": [
    "from sklearn.model_selection import train_test_split\n",
    "# generate train and test sets\n",
    "train, test = train_test_split(data, test_size = 0.3, random_state = 42, stratify = data['class_name'])"
   ]
  },
  {
   "cell_type": "code",
   "execution_count": 8,
   "metadata": {
    "id": "rnjC95rjY7zP"
   },
   "outputs": [],
   "source": [
    "IMG_SIZE = 456\n",
    "size = (IMG_SIZE,IMG_SIZE)\n",
    "n_CLASS = 5\n",
    "BATCH_SIZE = 15"
   ]
  },
  {
   "cell_type": "code",
   "execution_count": 9,
   "metadata": {
    "id": "-_zTRcjBIjGb"
   },
   "outputs": [],
   "source": [
    "datagen_train = ImageDataGenerator(\n",
    "    preprocessing_function = tf.keras.applications.vgg16.preprocess_input,\n",
    "    rotation_range = 40,\n",
    "    width_shift_range = 0.2,\n",
    "    height_shift_range = 0.2,\n",
    "    shear_range = 0.2,\n",
    "    zoom_range = 0.2,\n",
    "    horizontal_flip = True,\n",
    "    vertical_flip = True,\n",
    "    fill_mode = 'nearest',\n",
    ")\n",
    "\n",
    "datagen_test = ImageDataGenerator(\n",
    "    preprocessing_function = tf.keras.applications.vgg16.preprocess_input,\n",
    ")"
   ]
  },
  {
   "cell_type": "code",
   "execution_count": 10,
   "metadata": {
    "colab": {
     "base_uri": "https://localhost:8080/"
    },
    "id": "dFQSyaQrIkkz",
    "outputId": "57ea5ed9-57fe-446c-d044-be421bb326e4"
   },
   "outputs": [
    {
     "name": "stdout",
     "output_type": "stream",
     "text": [
      "Found 14977 validated image filenames belonging to 5 classes.\n",
      "Found 6420 validated image filenames belonging to 5 classes.\n"
     ]
    }
   ],
   "source": [
    "train_set = datagen_train.flow_from_dataframe(\n",
    "    train,\n",
    "    directory='train_images',\n",
    "    seed=42,\n",
    "    x_col='image_id',\n",
    "    y_col='class_name',\n",
    "    target_size = size,\n",
    "    class_mode='categorical',\n",
    "    interpolation='nearest',\n",
    "    shuffle = True,\n",
    "    batch_size = BATCH_SIZE,\n",
    ")\n",
    "test_set = datagen_test.flow_from_dataframe(\n",
    "    test,\n",
    "    directory='train_images',\n",
    "    seed=42,\n",
    "    x_col='image_id',\n",
    "    y_col='class_name',\n",
    "    target_size = size,\n",
    "    class_mode='categorical',\n",
    "    interpolation='nearest',\n",
    "    shuffle=True,\n",
    "    batch_size=BATCH_SIZE,\n",
    ")"
   ]
  },
  {
   "cell_type": "code",
   "execution_count": 11,
   "metadata": {
    "colab": {
     "base_uri": "https://localhost:8080/",
     "height": 1000
    },
    "id": "Xvkn3fYDZWml",
    "outputId": "35e201cc-c15f-49db-b226-7d1c0754d348"
   },
   "outputs": [
    {
     "name": "stdout",
     "output_type": "stream",
     "text": [
      "WARNING:tensorflow:From C:\\Users\\SreevaniPaipuru\\anaconda3\\Lib\\site-packages\\keras\\src\\backend.py:873: The name tf.get_default_graph is deprecated. Please use tf.compat.v1.get_default_graph instead.\n",
      "\n",
      "WARNING:tensorflow:From C:\\Users\\SreevaniPaipuru\\anaconda3\\Lib\\site-packages\\keras\\src\\layers\\pooling\\max_pooling2d.py:161: The name tf.nn.max_pool is deprecated. Please use tf.nn.max_pool2d instead.\n",
      "\n"
     ]
    },
    {
     "data": {
      "image/png": "[encoded data removed]",
      "text/plain": [
       "<IPython.core.display.Image object>"
      ]
     },
     "execution_count": 11,
     "metadata": {},
     "output_type": "execute_result"
    }
   ],
   "source": [
    "model = models.Sequential([\n",
    "\n",
    "    layers.Conv2D(32, kernel_size = (3,3), activation='relu', input_shape = (IMG_SIZE, IMG_SIZE, 3)),\n",
    "    layers.MaxPooling2D((2, 2)),\n",
    "    layers.Conv2D(64,  kernel_size = (3,3), activation='relu'),\n",
    "    layers.MaxPooling2D((2, 2)),\n",
    "    layers.Conv2D(64,  kernel_size = (3,3), activation='relu'),\n",
    "    layers.MaxPooling2D((2, 2)),\n",
    "    layers.Conv2D(64, (3, 3), activation='relu'),\n",
    "    layers.MaxPooling2D((2, 2)),\n",
    "    layers.Conv2D(64, (3, 3), activation='relu'),\n",
    "    layers.MaxPooling2D((2, 2)),\n",
    "    layers.Conv2D(64, (3, 3), activation='relu'),\n",
    "    layers.MaxPooling2D((2, 2)),\n",
    "    layers.Flatten(),\n",
    "    layers.Dense(256, activation = 'relu'),\n",
    "    layers.Dense(128, activation = 'relu'),\n",
    "    layers.Dense(n_CLASS, activation = 'softmax')\n",
    "])\n",
    "\n",
    "model.build(input_shape = (IMG_SIZE, IMG_SIZE, 3))\n",
    "from keras.utils import  plot_model\n",
    "\n",
    "plot_model(model)"
   ]
  },
  {
   "cell_type": "code",
   "execution_count": 12,
   "metadata": {
    "id": "WZWyBKthVKlA"
   },
   "outputs": [],
   "source": [
    "from tensorflow.keras.callbacks import ReduceLROnPlateau"
   ]
  },
  {
   "cell_type": "code",
   "execution_count": 13,
   "metadata": {
    "id": "9-qFVW41SVTb"
   },
   "outputs": [],
   "source": [
    "#Setting the learning rate to reduce gradually over the training period\n",
    "lr_schedule = tf.keras.optimizers.schedules.InverseTimeDecay(\n",
    "  0.001,\n",
    "  decay_steps=20*50,\n",
    "  decay_rate=1,\n",
    "  staircase=False)\n",
    "\n",
    "def get_optimizer():\n",
    "  return tf.keras.optimizers.Adam(lr_schedule)"
   ]
  },
  {
   "cell_type": "code",
   "execution_count": 14,
   "metadata": {
    "id": "0_xLZcPfSYM8"
   },
   "outputs": [],
   "source": [
    "#Compiling the model\n",
    "model.compile(loss='categorical_crossentropy', optimizer = get_optimizer(), metrics = ['categorical_accuracy'])\n",
    "# early_stop = EarlyStopping(monitor='val_loss',patience=5)\n",
    "# checkpoint = ModelCheckpoint(\"./Best_model/\",save_best_only=True,)\n",
    "rlrp = ReduceLROnPlateau(monitor='loss', factor=0.4, verbose=0, patience=2, min_lr=0.0000001)"
   ]
  },
  {
   "cell_type": "code",
   "execution_count": 15,
   "metadata": {
    "colab": {
     "base_uri": "https://localhost:8080/",
     "height": 406
    },
    "id": "otaX6UQ8SbUf",
    "outputId": "198e95cd-ed41-43dc-eaea-15f93a73d9eb"
   },
   "outputs": [
    {
     "name": "stdout",
     "output_type": "stream",
     "text": [
      "Epoch 1/2\n",
      "WARNING:tensorflow:From C:\\Users\\SreevaniPaipuru\\anaconda3\\Lib\\site-packages\\keras\\src\\utils\\tf_utils.py:492: The name tf.ragged.RaggedTensorValue is deprecated. Please use tf.compat.v1.ragged.RaggedTensorValue instead.\n",
      "\n",
      "WARNING:tensorflow:From C:\\Users\\SreevaniPaipuru\\anaconda3\\Lib\\site-packages\\keras\\src\\engine\\base_layer_utils.py:384: The name tf.executing_eagerly_outside_functions is deprecated. Please use tf.compat.v1.executing_eagerly_outside_functions instead.\n",
      "\n",
      "999/999 [==============================] - 5212s 5s/step - loss: 1.1281 - categorical_accuracy: 0.6212 - val_loss: 0.9528 - val_categorical_accuracy: 0.6438 - lr: 5.0050e-04\n",
      "Epoch 2/2\n",
      "999/999 [==============================] - 4015s 4s/step - loss: 0.9362 - categorical_accuracy: 0.6458 - val_loss: 0.8956 - val_categorical_accuracy: 0.6625 - lr: 3.3367e-04\n"
     ]
    }
   ],
   "source": [
    "#Fitted the model on the training and and validation dataset using the image augmentor for 200 epochs\n",
    "history = model.fit(train_set,\n",
    "                    batch_size=BATCH_SIZE,\n",
    "                    validation_data=test_set,\n",
    "                    epochs=2,\n",
    "                    callbacks=[rlrp],\n",
    "                    verbose = 1)"
   ]
  },
  {
   "cell_type": "code",
   "execution_count": 16,
   "metadata": {
    "colab": {
     "base_uri": "https://localhost:8080/"
    },
    "id": "zhmRyBPI-92C",
    "outputId": "0b831396-b822-48a9-8a5d-701df3a32afa"
   },
   "outputs": [
    {
     "name": "stdout",
     "output_type": "stream",
     "text": [
      "Downloading data from https://storage.googleapis.com/tensorflow/keras-applications/vgg16/vgg16_weights_tf_dim_ordering_tf_kernels_notop.h5\n",
      "58889256/58889256 [==============================] - 9s 0us/step\n",
      "Model: \"sequential_1\"\n",
      "_________________________________________________________________\n",
      " Layer (type)                Output Shape              Param #   \n",
      "=================================================================\n",
      " vgg16 (Functional)          (None, 14, 14, 512)       14714688  \n",
      "                                                                 \n",
      " global_average_pooling2d (  (None, 512)               0         \n",
      " GlobalAveragePooling2D)                                         \n",
      "                                                                 \n",
      " flatten_1 (Flatten)         (None, 512)               0         \n",
      "                                                                 \n",
      " dense_3 (Dense)             (None, 5)                 2565      \n",
      "                                                                 \n",
      "=================================================================\n",
      "Total params: 14717253 (56.14 MB)\n",
      "Trainable params: 2565 (10.02 KB)\n",
      "Non-trainable params: 14714688 (56.13 MB)\n",
      "_________________________________________________________________\n"
     ]
    }
   ],
   "source": [
    "import keras\n",
    "from keras.models import Sequential\n",
    "from keras.layers import GlobalAveragePooling2D, Flatten,Dense, Dropout, BatchNormalization\n",
    "from keras.optimizers import RMSprop, Adam\n",
    "from keras.callbacks import EarlyStopping, ModelCheckpoint, ReduceLROnPlateau\n",
    "from keras.applications.vgg16 import VGG16\n",
    "model = Sequential()\n",
    "vgg=VGG16(input_shape = (IMG_SIZE, IMG_SIZE, 3), weights = 'imagenet', include_top = False)\n",
    "for layer in vgg.layers:\n",
    "    layer.trainable = False\n",
    "model.add(vgg)\n",
    "model.add(GlobalAveragePooling2D())\n",
    "model.add(Flatten())\n",
    "model.add(Dense(n_CLASS, activation = 'softmax'))\n",
    "model.summary()"
   ]
  },
  {
   "cell_type": "code",
   "execution_count": 17,
   "metadata": {
    "id": "qvXdaNk1_A57"
   },
   "outputs": [],
   "source": [
    "loss = tf.keras.losses.CategoricalCrossentropy(\n",
    "        from_logits = False,\n",
    "        label_smoothing=0.0001,\n",
    "        name='categorical_crossentropy'\n",
    "    )"
   ]
  },
  {
   "cell_type": "code",
   "execution_count": 18,
   "metadata": {
    "id": "8448JtHiqbIa"
   },
   "outputs": [],
   "source": [
    "# Compile the model\n",
    "model.compile(\n",
    "        optimizer = Adam(learning_rate = 1e-3),\n",
    "        loss = loss, #'categorical_crossentropy'\n",
    "        metrics = ['categorical_accuracy']\n",
    "    )"
   ]
  },
  {
   "cell_type": "code",
   "execution_count": 19,
   "metadata": {
    "id": "-alHyuueqjs6"
   },
   "outputs": [],
   "source": [
    "es = EarlyStopping(\n",
    "        monitor='val_loss',\n",
    "        mode='min',\n",
    "        patience=3,\n",
    "        restore_best_weights=True,\n",
    "        verbose=1,\n",
    "        )"
   ]
  },
  {
   "cell_type": "code",
   "execution_count": 20,
   "metadata": {
    "id": "TxRfgoQTqoHx"
   },
   "outputs": [],
   "source": [
    "checkpoint_cb = ModelCheckpoint(\n",
    "        \"Cassava_best_model.h5\",\n",
    "        save_best_only=True,\n",
    "        monitor='val_loss',\n",
    "        mode='min',\n",
    "        )"
   ]
  },
  {
   "cell_type": "code",
   "execution_count": 21,
   "metadata": {
    "id": "uDmqPYwEqsR-"
   },
   "outputs": [],
   "source": [
    "# Reduce learning rate once learning stagnates\n",
    "reduce_lr = ReduceLROnPlateau(\n",
    "        monitor='val_loss',\n",
    "        factor=0.2,\n",
    "        patience=2,\n",
    "        min_lr=1e-6,\n",
    "        mode='min',\n",
    "        verbose=1,\n",
    "        )"
   ]
  },
  {
   "cell_type": "code",
   "execution_count": null,
   "metadata": {
    "colab": {
     "base_uri": "https://localhost:8080/"
    },
    "id": "cEp5vOrPqvvY",
    "outputId": "4ed5fc44-eb7e-48f1-a0ac-ce259e133426"
   },
   "outputs": [
    {
     "name": "stdout",
     "output_type": "stream",
     "text": [
      "Epoch 1/20\n",
      " 83/999 [=>............................] - ETA: 3:53:59 - loss: 1.6413 - categorical_accuracy: 0.5325"
     ]
    }
   ],
   "source": [
    "history = model.fit(\n",
    "        train_set,\n",
    "        validation_data=test_set,\n",
    "        epochs=20,\n",
    "        batch_size=BATCH_SIZE,\n",
    "        callbacks=[es, checkpoint_cb, reduce_lr],\n",
    "        )"
   ]
  },
  {
   "cell_type": "code",
   "execution_count": null,
   "metadata": {
    "id": "EVypSiKMzrGR"
   },
   "outputs": [],
   "source": [
    "#Part-B\n",
    "\n",
    "\n",
    "import numpy as np\n",
    "import matplotlib.pyplot as plt\n",
    "import tensorflow as tf\n",
    "from sklearn.model_selection import train_test_split\n",
    "from sklearn.metrics import accuracy_score\n",
    "from tensorflow.keras import layers, models\n",
    "\n",
    "\n",
    "# generate train and test sets\n",
    "X_train,y_train,X_test,y_test = train_test_split(data, test_size = 0.3, random_state = 42, stratify = data['class_name'])\n",
    "\n",
    "# Define a neural network model\n",
    "\n",
    "\n",
    "# Function to manipulate labels\n",
    "def manipulate_labels(label, flip_percentage):\n",
    "    num_flips = int(len(y_train-) * flip_percentage / 100)\n",
    "    flip_indices = np.random.choice(len(y_train), num_flips, replace=False)\n",
    "\n",
    "    for idx in flip_indices:\n",
    "        current_label = y_train[idx]\n",
    "        new_label = np.random.randint(0, 5)  # Assuming 5 classes for Cassava Leaf Diseases\n",
    "        while new_label == current_label:  # Ensure the new label is different from the current one\n",
    "            new_label = np.random.randint(0, 5)\n",
    "        y_train[idx] = new_label\n",
    "\n",
    "    return y_train\n",
    "\n",
    "# Function to simulate label manipulation and assess impact\n",
    "def simulate_label_manipulation(X_train, y_train, X_test, y_test, flip_percentages):\n",
    "    original_accuracy = train_and_evaluate(X_train, y_train, X_test, y_test)\n",
    "    manipulated_accuracies = []\n",
    "\n",
    "    for flip_percentage in flip_percentages:\n",
    "        y_train_manipulated = manipulate_labels(np.copy(y_train), flip_percentage)\n",
    "        accuracy = train_and_evaluate(X_train, y_train_manipulated, X_test, y_test)\n",
    "        manipulated_accuracies.append(accuracy)\n",
    "\n",
    "    return original_accuracy, manipulated_accuracies\n",
    "\n",
    "# Main function to run experiments\n",
    "def main():\n",
    "    # Assuming data is loaded and preprocessed\n",
    "    # X_train, y_train, X_test, y_test = ...\n",
    "\n",
    "    # Define percentages of flipped labels\n",
    "    flip_percentages = [5, 10, 15, 20, 25]\n",
    "\n",
    "    # Simulate label manipulation and assess impact\n",
    "    original_accuracy, manipulated_accuracies = simulate_label_manipulation(X_train, y_train, X_test, y_test, flip_percentages)\n",
    "\n",
    "    # Plot results\n",
    "    plt.plot(flip_percentages, manipulated_accuracies, marker='o')\n",
    "    plt.xlabel('Percentage of Flipped Labels')\n",
    "    plt.ylabel('Accuracy')\n",
    "    plt.title('Impact of Label Manipulation on Model Performance')\n",
    "    plt.xticks(flip_percentages)\n",
    "    plt.axhline(y=original_accuracy, color='r', linestyle='--', label='Original Accuracy')\n",
    "    plt.legend()\n",
    "    plt.grid(True)\n",
    "    plt.show()\n",
    "\n",
    "if __name__ == \"__main__\":\n",
    "    main()\n",
    "    "
   ]
  }
 ],
 "metadata": {
  "accelerator": "GPU",
  "colab": {
   "gpuType": "L4",
   "machine_shape": "hm",
   "provenance": []
  },
  "kernelspec": {
   "display_name": "Python 3 (ipykernel)",
   "language": "python",
   "name": "python3"
  },
  "language_info": {
   "codemirror_mode": {
    "name": "ipython",
    "version": 3
   },
   "file_extension": ".py",
   "mimetype": "text/x-python",
   "name": "python",
   "nbconvert_exporter": "python",
   "pygments_lexer": "ipython3",
   "version": "3.11.4"
  }
 },
 "nbformat": 4,
 "nbformat_minor": 1
}
